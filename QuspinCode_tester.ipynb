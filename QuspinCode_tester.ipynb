{
 "cells": [
  {
   "cell_type": "markdown",
   "id": "657eca42",
   "metadata": {},
   "source": [
    "#### Imports"
   ]
  },
  {
   "cell_type": "code",
   "execution_count": 3,
   "id": "da5a65db",
   "metadata": {},
   "outputs": [],
   "source": [
    "import quspin\n",
    "from quantum_simulations_for_ising.src.utils_sparse_diag import ising_coupling,ising_external_field\n",
    "import numpy as np"
   ]
  },
  {
   "cell_type": "markdown",
   "id": "a279c196",
   "metadata": {},
   "source": [
    "#### Load the couplings"
   ]
  },
  {
   "cell_type": "code",
   "execution_count": null,
   "id": "310ea60b",
   "metadata": {},
   "outputs": [],
   "source": [
    "couplings=np.load('data/graph_configurations/adjacency_configuration.npz')['couplings']\n",
    "\n",
    "adj={}\n",
    "for i in range(couplings.shape[0]):\n",
    "    for j in range(couplings.shape[1]):\n",
    "        \n",
    "        if couplings[i,j]!=0.:\n",
    "            adj[i,j]=couplings[i,j]"
   ]
  },
  {
   "cell_type": "code",
   "execution_count": null,
   "id": "705cd0c0",
   "metadata": {},
   "outputs": [],
   "source": [
    "ising_coupling(adj)"
   ]
  }
 ],
 "metadata": {
  "kernelspec": {
   "display_name": "qutip_env",
   "language": "python",
   "name": "python3"
  },
  "language_info": {
   "codemirror_mode": {
    "name": "ipython",
    "version": 3
   },
   "file_extension": ".py",
   "mimetype": "text/x-python",
   "name": "python",
   "nbconvert_exporter": "python",
   "pygments_lexer": "ipython3",
   "version": "3.10.8"
  }
 },
 "nbformat": 4,
 "nbformat_minor": 5
}
