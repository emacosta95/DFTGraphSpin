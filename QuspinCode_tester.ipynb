{
 "cells": [
  {
   "cell_type": "markdown",
   "id": "657eca42",
   "metadata": {},
   "source": [
    "#### Imports"
   ]
  },
  {
   "cell_type": "code",
   "execution_count": 2,
   "id": "da5a65db",
   "metadata": {},
   "outputs": [],
   "source": [
    "import quspin\n",
    "from quantum_simulations_for_ising.src.utils_sparse_diag import ising_coupling,ising_external_field,get_gs\n",
    "import numpy as np\n",
    "\n",
    "n_sites=16\n",
    "\n",
    "basis=quspin.basis.spin_basis_general(n_sites)"
   ]
  },
  {
   "cell_type": "markdown",
   "id": "a279c196",
   "metadata": {},
   "source": [
    "#### Load the couplings"
   ]
  },
  {
   "cell_type": "code",
   "execution_count": 3,
   "id": "310ea60b",
   "metadata": {},
   "outputs": [],
   "source": [
    "couplings=np.load('data/graph_configurations/adjacency_configuration.npz')['couplings']\n",
    "\n",
    "adj={}\n",
    "for i in range(couplings.shape[0]):\n",
    "    for j in range(couplings.shape[1]):\n",
    "        \n",
    "        if couplings[i,j]!=0.:\n",
    "            adj[i,j]=couplings[i,j]"
   ]
  },
  {
   "cell_type": "markdown",
   "id": "9b3852b0",
   "metadata": {},
   "source": [
    "#### Coupling term"
   ]
  },
  {
   "cell_type": "code",
   "execution_count": 4,
   "id": "705cd0c0",
   "metadata": {},
   "outputs": [],
   "source": [
    "hamiltonian_j,f=ising_coupling(adj=adj,l=n_sites,basis=basis,direction='zz')"
   ]
  },
  {
   "cell_type": "code",
   "execution_count": 5,
   "id": "e7ca4fd2",
   "metadata": {},
   "outputs": [
    {
     "name": "stdout",
     "output_type": "stream",
     "text": [
      "static mat: \n",
      "<DIAgonal sparse matrix of dtype 'float64'\n",
      "\twith 65536 stored elements (1 diagonals) and shape (65536, 65536)>\n",
      "  Coords\tValues\n",
      "  (0, 0)\t11.438861614645198\n",
      "  (1, 1)\t6.143351210191455\n",
      "  (2, 2)\t15.928026673537467\n",
      "  (3, 3)\t10.632516269083727\n",
      "  (4, 4)\t2.8635577378680814\n",
      "  (5, 5)\t8.640173084875764\n",
      "  (6, 6)\t7.352722796760347\n",
      "  (7, 7)\t13.129338143768035\n",
      "  (8, 8)\t8.19195465073918\n",
      "  (9, 9)\t2.896444246285437\n",
      "  (10, 10)\t12.681119709631444\n",
      "  (11, 11)\t7.385609305177704\n",
      "  (12, 12)\t-6.79797197283549\n",
      "  (13, 13)\t-1.0213566258278057\n",
      "  (14, 14)\t-2.3088069139432172\n",
      "  (15, 15)\t3.4678084330644667\n",
      "  (16, 16)\t9.443627472431839\n",
      "  (17, 17)\t4.1481170679781\n",
      "  (18, 18)\t13.932792531324111\n",
      "  (19, 19)\t8.637282126870371\n",
      "  (20, 20)\t0.8092823960981355\n",
      "  (21, 21)\t6.5858977431058205\n",
      "  (22, 22)\t5.298447454990407\n",
      "  (23, 23)\t11.075062801998092\n",
      "  (24, 24)\t8.915288222018965\n",
      "  :\t:\n",
      "  (65511, 65511)\t8.915288222018965\n",
      "  (65512, 65512)\t11.075062801998092\n",
      "  (65513, 65513)\t5.298447454990407\n",
      "  (65514, 65514)\t6.5858977431058205\n",
      "  (65515, 65515)\t0.8092823960981355\n",
      "  (65516, 65516)\t8.637282126870371\n",
      "  (65517, 65517)\t13.932792531324111\n",
      "  (65518, 65518)\t4.1481170679781\n",
      "  (65519, 65519)\t9.443627472431839\n",
      "  (65520, 65520)\t3.4678084330644667\n",
      "  (65521, 65521)\t-2.3088069139432172\n",
      "  (65522, 65522)\t-1.0213566258278057\n",
      "  (65523, 65523)\t-6.79797197283549\n",
      "  (65524, 65524)\t7.385609305177704\n",
      "  (65525, 65525)\t12.681119709631444\n",
      "  (65526, 65526)\t2.896444246285437\n",
      "  (65527, 65527)\t8.19195465073918\n",
      "  (65528, 65528)\t13.129338143768035\n",
      "  (65529, 65529)\t7.352722796760347\n",
      "  (65530, 65530)\t8.640173084875764\n",
      "  (65531, 65531)\t2.8635577378680814\n",
      "  (65532, 65532)\t10.632516269083727\n",
      "  (65533, 65533)\t15.928026673537467\n",
      "  (65534, 65534)\t6.143351210191455\n",
      "  (65535, 65535)\t11.438861614645198\n",
      "\n",
      "\n",
      "dynamic:\n",
      "\n"
     ]
    }
   ],
   "source": [
    "print(hamiltonian_j)"
   ]
  },
  {
   "cell_type": "markdown",
   "id": "dd7bbf1d",
   "metadata": {},
   "source": [
    "#### Transverse Field"
   ]
  },
  {
   "cell_type": "code",
   "execution_count": 6,
   "id": "8588dfb1",
   "metadata": {},
   "outputs": [],
   "source": [
    "hamiltonian_h=ising_external_field(h=[1.]*n_sites,l=n_sites,basis=basis,direction='x')"
   ]
  },
  {
   "cell_type": "code",
   "execution_count": 7,
   "id": "2830b871",
   "metadata": {},
   "outputs": [],
   "source": [
    "hamiltonian=hamiltonian_j+hamiltonian_h"
   ]
  },
  {
   "cell_type": "code",
   "execution_count": 10,
   "id": "a743a2e4",
   "metadata": {},
   "outputs": [],
   "source": [
    "e,psi=get_gs(ham=hamiltonian,basis=basis,k=1,eightype='none',lanczos_dim=20)"
   ]
  },
  {
   "cell_type": "code",
   "execution_count": 11,
   "id": "2f5c110c",
   "metadata": {},
   "outputs": [
    {
     "name": "stdout",
     "output_type": "stream",
     "text": [
      "[-36.68088424]\n"
     ]
    }
   ],
   "source": [
    "print(e)"
   ]
  }
 ],
 "metadata": {
  "kernelspec": {
   "display_name": "qutip_env",
   "language": "python",
   "name": "python3"
  },
  "language_info": {
   "codemirror_mode": {
    "name": "ipython",
    "version": 3
   },
   "file_extension": ".py",
   "mimetype": "text/x-python",
   "name": "python",
   "nbconvert_exporter": "python",
   "pygments_lexer": "ipython3",
   "version": "3.10.8"
  }
 },
 "nbformat": 4,
 "nbformat_minor": 5
}
