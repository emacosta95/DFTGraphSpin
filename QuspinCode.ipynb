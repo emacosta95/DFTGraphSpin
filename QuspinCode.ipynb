{
 "cells": [
  {
   "cell_type": "code",
   "execution_count": null,
   "id": "da5a65db",
   "metadata": {},
   "outputs": [],
   "source": [
    "import quspin\n",
    "from quantum_simulations_for_ising.src.utils_sparse_diag import ising_coupling,ising_external_field"
   ]
  }
 ],
 "metadata": {
  "kernelspec": {
   "display_name": "qutip_env",
   "language": "python",
   "name": "python3"
  },
  "language_info": {
   "codemirror_mode": {
    "name": "ipython",
    "version": 3
   },
   "file_extension": ".py",
   "mimetype": "text/x-python",
   "name": "python",
   "nbconvert_exporter": "python",
   "pygments_lexer": "ipython3",
   "version": "3.10.8"
  }
 },
 "nbformat": 4,
 "nbformat_minor": 5
}
